{
 "cells": [
  {
   "cell_type": "code",
   "execution_count": 1,
   "metadata": {},
   "outputs": [],
   "source": [
    "import numpy as np \n",
    "import pandas as pd \n",
    "import matplotlib.pyplot as plt \n",
    "from sklearn.preprocessing import MinMaxScaler\n",
    "from keras.models import Sequential\n",
    "from keras.layers import Dense,LSTM,Dropout"
   ]
  },
  {
   "cell_type": "code",
   "execution_count": 6,
   "metadata": {},
   "outputs": [
    {
     "data": {
      "text/html": [
       "<div>\n",
       "<style scoped>\n",
       "    .dataframe tbody tr th:only-of-type {\n",
       "        vertical-align: middle;\n",
       "    }\n",
       "\n",
       "    .dataframe tbody tr th {\n",
       "        vertical-align: top;\n",
       "    }\n",
       "\n",
       "    .dataframe thead th {\n",
       "        text-align: right;\n",
       "    }\n",
       "</style>\n",
       "<table border=\"1\" class=\"dataframe\">\n",
       "  <thead>\n",
       "    <tr style=\"text-align: right;\">\n",
       "      <th></th>\n",
       "      <th>Date</th>\n",
       "      <th>Open</th>\n",
       "      <th>High</th>\n",
       "      <th>Low</th>\n",
       "      <th>Close</th>\n",
       "      <th>Volume</th>\n",
       "    </tr>\n",
       "  </thead>\n",
       "  <tbody>\n",
       "    <tr>\n",
       "      <th>0</th>\n",
       "      <td>1/3/2012</td>\n",
       "      <td>325.25</td>\n",
       "      <td>332.83</td>\n",
       "      <td>324.97</td>\n",
       "      <td>663.59</td>\n",
       "      <td>7,380,500</td>\n",
       "    </tr>\n",
       "    <tr>\n",
       "      <th>1</th>\n",
       "      <td>1/4/2012</td>\n",
       "      <td>331.27</td>\n",
       "      <td>333.87</td>\n",
       "      <td>329.08</td>\n",
       "      <td>666.45</td>\n",
       "      <td>5,749,400</td>\n",
       "    </tr>\n",
       "    <tr>\n",
       "      <th>2</th>\n",
       "      <td>1/5/2012</td>\n",
       "      <td>329.83</td>\n",
       "      <td>330.75</td>\n",
       "      <td>326.89</td>\n",
       "      <td>657.21</td>\n",
       "      <td>6,590,300</td>\n",
       "    </tr>\n",
       "    <tr>\n",
       "      <th>3</th>\n",
       "      <td>1/6/2012</td>\n",
       "      <td>328.34</td>\n",
       "      <td>328.77</td>\n",
       "      <td>323.68</td>\n",
       "      <td>648.24</td>\n",
       "      <td>5,405,900</td>\n",
       "    </tr>\n",
       "    <tr>\n",
       "      <th>4</th>\n",
       "      <td>1/9/2012</td>\n",
       "      <td>322.04</td>\n",
       "      <td>322.29</td>\n",
       "      <td>309.46</td>\n",
       "      <td>620.76</td>\n",
       "      <td>11,688,800</td>\n",
       "    </tr>\n",
       "  </tbody>\n",
       "</table>\n",
       "</div>"
      ],
      "text/plain": [
       "       Date    Open    High     Low   Close      Volume\n",
       "0  1/3/2012  325.25  332.83  324.97  663.59   7,380,500\n",
       "1  1/4/2012  331.27  333.87  329.08  666.45   5,749,400\n",
       "2  1/5/2012  329.83  330.75  326.89  657.21   6,590,300\n",
       "3  1/6/2012  328.34  328.77  323.68  648.24   5,405,900\n",
       "4  1/9/2012  322.04  322.29  309.46  620.76  11,688,800"
      ]
     },
     "execution_count": 6,
     "metadata": {},
     "output_type": "execute_result"
    }
   ],
   "source": [
    "data = pd.read_csv('Google_train_data.csv')\n",
    "data.head()"
   ]
  },
  {
   "cell_type": "code",
   "execution_count": 3,
   "metadata": {},
   "outputs": [
    {
     "name": "stdout",
     "output_type": "stream",
     "text": [
      "<class 'pandas.core.frame.DataFrame'>\n",
      "RangeIndex: 1258 entries, 0 to 1257\n",
      "Data columns (total 6 columns):\n",
      " #   Column  Non-Null Count  Dtype  \n",
      "---  ------  --------------  -----  \n",
      " 0   Date    1258 non-null   object \n",
      " 1   Open    1258 non-null   float64\n",
      " 2   High    1258 non-null   float64\n",
      " 3   Low     1258 non-null   float64\n",
      " 4   Close   1258 non-null   object \n",
      " 5   Volume  1258 non-null   object \n",
      "dtypes: float64(3), object(3)\n",
      "memory usage: 59.1+ KB\n"
     ]
    }
   ],
   "source": [
    "data.info()"
   ]
  },
  {
   "cell_type": "code",
   "execution_count": 7,
   "metadata": {},
   "outputs": [],
   "source": [
    "data[\"Close\"]=pd.to_numeric(data.Close,errors='coerce')\n",
    "data = data.dropna()\n",
    "trainData = data.iloc[:,4:5].values"
   ]
  },
  {
   "cell_type": "code",
   "execution_count": 8,
   "metadata": {},
   "outputs": [
    {
     "name": "stdout",
     "output_type": "stream",
     "text": [
      "<class 'pandas.core.frame.DataFrame'>\n",
      "Index: 1149 entries, 0 to 1257\n",
      "Data columns (total 6 columns):\n",
      " #   Column  Non-Null Count  Dtype  \n",
      "---  ------  --------------  -----  \n",
      " 0   Date    1149 non-null   object \n",
      " 1   Open    1149 non-null   float64\n",
      " 2   High    1149 non-null   float64\n",
      " 3   Low     1149 non-null   float64\n",
      " 4   Close   1149 non-null   float64\n",
      " 5   Volume  1149 non-null   object \n",
      "dtypes: float64(4), object(2)\n",
      "memory usage: 62.8+ KB\n"
     ]
    }
   ],
   "source": [
    "data.info()"
   ]
  },
  {
   "cell_type": "code",
   "execution_count": 9,
   "metadata": {},
   "outputs": [
    {
     "data": {
      "text/plain": [
       "(1149, 1)"
      ]
     },
     "execution_count": 9,
     "metadata": {},
     "output_type": "execute_result"
    }
   ],
   "source": [
    "sc = MinMaxScaler(feature_range=(0,1))\n",
    "trainData = sc.fit_transform(trainData)\n",
    "trainData.shape"
   ]
  },
  {
   "cell_type": "code",
   "execution_count": 19,
   "metadata": {},
   "outputs": [],
   "source": [
    "X_train = []\n",
    "y_train = []\n",
    "\n",
    "for i in range (60,1149):\n",
    "    X_train.append(trainData[i-60:i,0]) \n",
    "    y_train.append(trainData[i,0])\n",
    "\n",
    "X_train,y_train = np.array(X_train),np.array(y_train)"
   ]
  },
  {
   "cell_type": "code",
   "execution_count": 20,
   "metadata": {},
   "outputs": [
    {
     "data": {
      "text/plain": [
       "(1089, 60, 1)"
      ]
     },
     "execution_count": 20,
     "metadata": {},
     "output_type": "execute_result"
    }
   ],
   "source": [
    "X_train = np.reshape(X_train,(X_train.shape[0],X_train.shape[1],1)) #adding the batch_size axis\n",
    "X_train.shape"
   ]
  },
  {
   "cell_type": "code",
   "execution_count": 12,
   "metadata": {},
   "outputs": [
    {
     "name": "stderr",
     "output_type": "stream",
     "text": [
      "C:\\Users\\User\\anaconda3\\Lib\\site-packages\\keras\\src\\layers\\rnn\\rnn.py:204: UserWarning: Do not pass an `input_shape`/`input_dim` argument to a layer. When using Sequential models, prefer using an `Input(shape)` object as the first layer in the model instead.\n",
      "  super().__init__(**kwargs)\n"
     ]
    }
   ],
   "source": [
    "model = Sequential()\n",
    "\n",
    "model.add(LSTM(units=100, return_sequences = True, input_shape =(X_train.shape[1],1)))\n",
    "model.add(Dropout(0.2))\n",
    "\n",
    "model.add(LSTM(units=100, return_sequences = True))\n",
    "model.add(Dropout(0.2))\n",
    "\n",
    "model.add(LSTM(units=100, return_sequences = True))\n",
    "model.add(Dropout(0.2))\n",
    "\n",
    "model.add(LSTM(units=100, return_sequences = False))\n",
    "model.add(Dropout(0.2))\n",
    "\n",
    "model.add(Dense(units =1))\n",
    "model.compile(optimizer='adam',loss=\"mean_squared_error\")"
   ]
  },
  {
   "cell_type": "code",
   "execution_count": 13,
   "metadata": {},
   "outputs": [
    {
     "name": "stdout",
     "output_type": "stream",
     "text": [
      "Epoch 1/20\n",
      "35/35 - 10s - 278ms/step - loss: 0.0548\n",
      "Epoch 2/20\n",
      "35/35 - 3s - 100ms/step - loss: 0.0136\n",
      "Epoch 3/20\n",
      "35/35 - 3s - 94ms/step - loss: 0.0108\n",
      "Epoch 4/20\n",
      "35/35 - 3s - 94ms/step - loss: 0.0102\n",
      "Epoch 5/20\n",
      "35/35 - 3s - 91ms/step - loss: 0.0087\n",
      "Epoch 6/20\n",
      "35/35 - 3s - 97ms/step - loss: 0.0079\n",
      "Epoch 7/20\n",
      "35/35 - 5s - 148ms/step - loss: 0.0077\n",
      "Epoch 8/20\n",
      "35/35 - 3s - 96ms/step - loss: 0.0138\n",
      "Epoch 9/20\n",
      "35/35 - 3s - 95ms/step - loss: 0.0083\n",
      "Epoch 10/20\n",
      "35/35 - 4s - 105ms/step - loss: 0.0066\n",
      "Epoch 11/20\n",
      "35/35 - 4s - 101ms/step - loss: 0.0060\n",
      "Epoch 12/20\n",
      "35/35 - 3s - 95ms/step - loss: 0.0063\n",
      "Epoch 13/20\n",
      "35/35 - 5s - 138ms/step - loss: 0.0056\n",
      "Epoch 14/20\n",
      "35/35 - 5s - 149ms/step - loss: 0.0070\n",
      "Epoch 15/20\n",
      "35/35 - 4s - 126ms/step - loss: 0.0087\n",
      "Epoch 16/20\n",
      "35/35 - 4s - 123ms/step - loss: 0.0058\n",
      "Epoch 17/20\n",
      "35/35 - 4s - 106ms/step - loss: 0.0051\n",
      "Epoch 18/20\n",
      "35/35 - 4s - 104ms/step - loss: 0.0051\n",
      "Epoch 19/20\n",
      "35/35 - 4s - 110ms/step - loss: 0.0054\n",
      "Epoch 20/20\n",
      "35/35 - 4s - 115ms/step - loss: 0.0047\n"
     ]
    }
   ],
   "source": [
    "hist = model.fit(X_train, y_train, epochs = 20, batch_size = 32, verbose=2)"
   ]
  },
  {
   "cell_type": "code",
   "execution_count": 14,
   "metadata": {},
   "outputs": [
    {
     "data": {
      "image/png": "[encoded data removed]",
      "text/plain": [
       "<Figure size 640x480 with 1 Axes>"
      ]
     },
     "metadata": {},
     "output_type": "display_data"
    }
   ],
   "source": [
    "plt.plot(hist.history['loss'])\n",
    "plt.title('Training model loss')\n",
    "plt.ylabel('loss')\n",
    "plt.xlabel('epoch')\n",
    "plt.legend(['train'], loc='upper left')\n",
    "plt.show()"
   ]
  },
  {
   "cell_type": "code",
   "execution_count": 15,
   "metadata": {},
   "outputs": [
    {
     "data": {
      "text/plain": [
       "(192, 60, 1)"
      ]
     },
     "execution_count": 15,
     "metadata": {},
     "output_type": "execute_result"
    }
   ],
   "source": [
    "testData = pd.read_csv('Google_test_data.csv')\n",
    "testData[\"Close\"]=pd.to_numeric(testData.Close,errors='coerce')\n",
    "testData = testData.dropna()\n",
    "testData = testData.iloc[:,4:5]\n",
    "y_test = testData.iloc[60:,0:].values \n",
    "\n",
    "inputClosing = testData.iloc[:,0:].values \n",
    "inputClosing_scaled = sc.transform(inputClosing)\n",
    "inputClosing_scaled.shape\n",
    "X_test = []\n",
    "length = len(testData)\n",
    "timestep = 60\n",
    "for i in range(timestep,length):  \n",
    "    X_test.append(inputClosing_scaled[i-timestep:i,0])\n",
    "X_test = np.array(X_test)\n",
    "X_test = np.reshape(X_test,(X_test.shape[0],X_test.shape[1],1))\n",
    "X_test.shape"
   ]
  },
  {
   "cell_type": "code",
   "execution_count": 16,
   "metadata": {},
   "outputs": [
    {
     "name": "stdout",
     "output_type": "stream",
     "text": [
      "\u001b[1m6/6\u001b[0m \u001b[32m━━━━━━━━━━━━━━━━━━━━\u001b[0m\u001b[37m\u001b[0m \u001b[1m1s\u001b[0m 42ms/step\n"
     ]
    },
    {
     "data": {
      "text/plain": [
       "array([[1.179498 ],\n",
       "       [1.1812774],\n",
       "       [1.1905257],\n",
       "       [1.206096 ],\n",
       "       [1.2217966],\n",
       "       [1.2289026],\n",
       "       [1.2249315],\n",
       "       [1.213617 ],\n",
       "       [1.2030312],\n",
       "       [1.1967397],\n",
       "       [1.1883893],\n",
       "       [1.1768084],\n",
       "       [1.1653239],\n",
       "       [1.1542186],\n",
       "       [1.1482592],\n",
       "       [1.1482354],\n",
       "       [1.1597672],\n",
       "       [1.182365 ],\n",
       "       [1.2122856],\n",
       "       [1.2457943],\n",
       "       [1.2683318],\n",
       "       [1.2774241],\n",
       "       [1.2697657],\n",
       "       [1.2493335],\n",
       "       [1.2246997],\n",
       "       [1.2042208],\n",
       "       [1.1912726],\n",
       "       [1.1826088],\n",
       "       [1.1717746],\n",
       "       [1.1593006],\n",
       "       [1.1462828],\n",
       "       [1.1322854],\n",
       "       [1.1136583],\n",
       "       [1.0907974],\n",
       "       [1.0767026],\n",
       "       [1.0775144],\n",
       "       [1.0911705],\n",
       "       [1.1121532],\n",
       "       [1.1364106],\n",
       "       [1.155187 ],\n",
       "       [1.1734884],\n",
       "       [1.1928289],\n",
       "       [1.213392 ],\n",
       "       [1.2329452],\n",
       "       [1.2482868],\n",
       "       [1.2554746],\n",
       "       [1.2520016],\n",
       "       [1.2451628],\n",
       "       [1.240198 ],\n",
       "       [1.2403768],\n",
       "       [1.2468071],\n",
       "       [1.2527632],\n",
       "       [1.2554551],\n",
       "       [1.254143 ],\n",
       "       [1.2526697],\n",
       "       [1.2492893],\n",
       "       [1.2420543],\n",
       "       [1.2364703],\n",
       "       [1.2398249],\n",
       "       [1.2517657],\n",
       "       [1.2725173],\n",
       "       [1.300646 ],\n",
       "       [1.3258535],\n",
       "       [1.3392283],\n",
       "       [1.3385543],\n",
       "       [1.32692  ],\n",
       "       [1.3141577],\n",
       "       [1.3052868],\n",
       "       [1.3018392],\n",
       "       [1.3014641],\n",
       "       [1.3030366],\n",
       "       [1.3046238],\n",
       "       [1.3022805],\n",
       "       [1.2979953],\n",
       "       [1.2935046],\n",
       "       [1.2909746],\n",
       "       [1.2911458],\n",
       "       [1.2942466],\n",
       "       [1.3031523],\n",
       "       [1.3182081],\n",
       "       [1.339281 ],\n",
       "       [1.36224  ],\n",
       "       [1.3801413],\n",
       "       [1.389725 ],\n",
       "       [1.3974564],\n",
       "       [1.409227 ],\n",
       "       [1.4250488],\n",
       "       [1.4404436],\n",
       "       [1.4517578],\n",
       "       [1.4574336],\n",
       "       [1.4605865],\n",
       "       [1.467589 ],\n",
       "       [1.480462 ],\n",
       "       [1.4915712],\n",
       "       [1.4944193],\n",
       "       [1.4867413],\n",
       "       [1.4689674],\n",
       "       [1.4446387],\n",
       "       [1.4198322],\n",
       "       [1.4030952],\n",
       "       [1.3980473],\n",
       "       [1.4042424],\n",
       "       [1.4196328],\n",
       "       [1.4381632],\n",
       "       [1.454455 ],\n",
       "       [1.4645579],\n",
       "       [1.4689703],\n",
       "       [1.4697382],\n",
       "       [1.4711959],\n",
       "       [1.4752244],\n",
       "       [1.4824356],\n",
       "       [1.493175 ],\n",
       "       [1.5054902],\n",
       "       [1.5194316],\n",
       "       [1.5363985],\n",
       "       [1.5526336],\n",
       "       [1.566659 ],\n",
       "       [1.5788771],\n",
       "       [1.5917908],\n",
       "       [1.5839596],\n",
       "       [1.5495865],\n",
       "       [1.4965615],\n",
       "       [1.4425366],\n",
       "       [1.3996627],\n",
       "       [1.3698452],\n",
       "       [1.3511   ],\n",
       "       [1.3407257],\n",
       "       [1.3371797],\n",
       "       [1.332886 ],\n",
       "       [1.3237497],\n",
       "       [1.3191187],\n",
       "       [1.3256209],\n",
       "       [1.3396766],\n",
       "       [1.3522257],\n",
       "       [1.3611574],\n",
       "       [1.3667898],\n",
       "       [1.3680403],\n",
       "       [1.3642807],\n",
       "       [1.3571144],\n",
       "       [1.3454919],\n",
       "       [1.3313508],\n",
       "       [1.3147606],\n",
       "       [1.2855642],\n",
       "       [1.2482523],\n",
       "       [1.2084231],\n",
       "       [1.1726623],\n",
       "       [1.1491427],\n",
       "       [1.1426758],\n",
       "       [1.151525 ],\n",
       "       [1.170319 ],\n",
       "       [1.1951283],\n",
       "       [1.2208872],\n",
       "       [1.2448401],\n",
       "       [1.2667689],\n",
       "       [1.2854656],\n",
       "       [1.3013564],\n",
       "       [1.3159009],\n",
       "       [1.3276234],\n",
       "       [1.3301102],\n",
       "       [1.3213358],\n",
       "       [1.3033834],\n",
       "       [1.2817007],\n",
       "       [1.264005 ],\n",
       "       [1.2559711],\n",
       "       [1.2596676],\n",
       "       [1.2742164],\n",
       "       [1.2924986],\n",
       "       [1.3104694],\n",
       "       [1.3281635],\n",
       "       [1.3451829],\n",
       "       [1.3602453],\n",
       "       [1.3729495],\n",
       "       [1.3831604],\n",
       "       [1.3890784],\n",
       "       [1.3903277],\n",
       "       [1.384648 ],\n",
       "       [1.3746693],\n",
       "       [1.3648334],\n",
       "       [1.3559449],\n",
       "       [1.3474313],\n",
       "       [1.3614968],\n",
       "       [1.398729 ],\n",
       "       [1.4464909],\n",
       "       [1.4903649],\n",
       "       [1.52032  ],\n",
       "       [1.5309196],\n",
       "       [1.5163218],\n",
       "       [1.4860027],\n",
       "       [1.4512038],\n",
       "       [1.4259254],\n",
       "       [1.4113283],\n",
       "       [1.4029694]], dtype=float32)"
      ]
     },
     "execution_count": 16,
     "metadata": {},
     "output_type": "execute_result"
    }
   ],
   "source": [
    "y_pred = model.predict(X_test)\n",
    "y_pred"
   ]
  },
  {
   "cell_type": "code",
   "execution_count": 17,
   "metadata": {},
   "outputs": [],
   "source": [
    "predicted_price = sc.inverse_transform(y_pred)"
   ]
  },
  {
   "cell_type": "code",
   "execution_count": 18,
   "metadata": {},
   "outputs": [
    {
     "data": {
      "image/png": "[encoded data removed]",
      "text/plain": [
       "<Figure size 640x480 with 1 Axes>"
      ]
     },
     "metadata": {},
     "output_type": "display_data"
    }
   ],
   "source": [
    "plt.plot(y_test, color = 'red', label = 'Actual Stock Price')\n",
    "plt.plot(predicted_price, color = 'green', label = 'Predicted Stock Price')\n",
    "plt.title('Google stock price prediction')\n",
    "plt.xlabel('Time')\n",
    "plt.ylabel('Stock Price')\n",
    "plt.legend()\n",
    "plt.show()"
   ]
  }
 ],
 "metadata": {
  "kernelspec": {
   "display_name": "Python 3 (ipykernel)",
   "language": "python",
   "name": "python3"
  },
  "language_info": {
   "codemirror_mode": {
    "name": "ipython",
    "version": 3
   },
   "file_extension": ".py",
   "mimetype": "text/x-python",
   "name": "python",
   "nbconvert_exporter": "python",
   "pygments_lexer": "ipython3",
   "version": "3.11.5"
  }
 },
 "nbformat": 4,
 "nbformat_minor": 4
}
